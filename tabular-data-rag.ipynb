{
 "cells": [
  {
   "cell_type": "code",
   "execution_count": 1,
   "metadata": {
    "executionInfo": {
     "elapsed": 1191,
     "status": "ok",
     "timestamp": 1730948925793,
     "user": {
      "displayName": "Yu Nie",
      "userId": "12883820020368960477"
     },
     "user_tz": 300
    },
    "id": "yEZ3UGJ7k2rk"
   },
   "outputs": [],
   "source": [
    "import os\n",
    "import sys\n",
    "import pandas as pd\n",
    "from typing import List"
   ]
  },
  {
   "cell_type": "code",
   "execution_count": 2,
   "metadata": {
    "colab": {
     "base_uri": "https://localhost:8080/"
    },
    "executionInfo": {
     "elapsed": 7126,
     "status": "ok",
     "timestamp": 1730948932917,
     "user": {
      "displayName": "Yu Nie",
      "userId": "12883820020368960477"
     },
     "user_tz": 300
    },
    "id": "IdU92ozRk3SU",
    "outputId": "f34dc7a5-f813-4a50-ce3e-258743997738"
   },
   "outputs": [
    {
     "name": "stdout",
     "output_type": "stream",
     "text": [
      "Requirement already satisfied: beautifultable in /usr/local/lib/python3.10/dist-packages (1.1.0)\n",
      "Requirement already satisfied: wcwidth in /usr/local/lib/python3.10/dist-packages (from beautifultable) (0.2.13)\n"
     ]
    }
   ],
   "source": [
    "!pip install beautifultable\n",
    "from beautifultable import BeautifulTable"
   ]
  },
  {
   "cell_type": "code",
   "execution_count": 3,
   "metadata": {
    "colab": {
     "base_uri": "https://localhost:8080/"
    },
    "executionInfo": {
     "elapsed": 17417,
     "status": "ok",
     "timestamp": 1730948950331,
     "user": {
      "displayName": "Yu Nie",
      "userId": "12883820020368960477"
     },
     "user_tz": 300
    },
    "id": "SeTsyOtzk7ea",
    "outputId": "b27e4715-d1d7-4f82-eb36-71da81330935"
   },
   "outputs": [
    {
     "name": "stdout",
     "output_type": "stream",
     "text": [
      "Requirement already satisfied: opencv-python in /usr/local/lib/python3.10/dist-packages (4.10.0.84)\n",
      "Requirement already satisfied: numpy>=1.21.2 in /usr/local/lib/python3.10/dist-packages (from opencv-python) (1.26.4)\n",
      "Requirement already satisfied: camelot-py in /usr/local/lib/python3.10/dist-packages (0.11.0)\n",
      "Requirement already satisfied: chardet>=3.0.4 in /usr/local/lib/python3.10/dist-packages (from camelot-py) (5.2.0)\n",
      "Requirement already satisfied: click>=6.7 in /usr/local/lib/python3.10/dist-packages (from camelot-py) (8.1.7)\n",
      "Requirement already satisfied: numpy>=1.13.3 in /usr/local/lib/python3.10/dist-packages (from camelot-py) (1.26.4)\n",
      "Requirement already satisfied: openpyxl>=2.5.8 in /usr/local/lib/python3.10/dist-packages (from camelot-py) (3.1.5)\n",
      "Requirement already satisfied: pandas>=0.23.4 in /usr/local/lib/python3.10/dist-packages (from camelot-py) (2.2.2)\n",
      "Requirement already satisfied: pdfminer.six>=20200726 in /usr/local/lib/python3.10/dist-packages (from camelot-py) (20240706)\n",
      "Requirement already satisfied: pypdf>=3.0.0 in /usr/local/lib/python3.10/dist-packages (from camelot-py) (5.1.0)\n",
      "Requirement already satisfied: tabulate>=0.8.9 in /usr/local/lib/python3.10/dist-packages (from camelot-py) (0.9.0)\n",
      "Requirement already satisfied: et-xmlfile in /usr/local/lib/python3.10/dist-packages (from openpyxl>=2.5.8->camelot-py) (2.0.0)\n",
      "Requirement already satisfied: python-dateutil>=2.8.2 in /usr/local/lib/python3.10/dist-packages (from pandas>=0.23.4->camelot-py) (2.8.2)\n",
      "Requirement already satisfied: pytz>=2020.1 in /usr/local/lib/python3.10/dist-packages (from pandas>=0.23.4->camelot-py) (2024.2)\n",
      "Requirement already satisfied: tzdata>=2022.7 in /usr/local/lib/python3.10/dist-packages (from pandas>=0.23.4->camelot-py) (2024.2)\n",
      "Requirement already satisfied: charset-normalizer>=2.0.0 in /usr/local/lib/python3.10/dist-packages (from pdfminer.six>=20200726->camelot-py) (3.4.0)\n",
      "Requirement already satisfied: cryptography>=36.0.0 in /usr/local/lib/python3.10/dist-packages (from pdfminer.six>=20200726->camelot-py) (43.0.3)\n",
      "Requirement already satisfied: typing_extensions>=4.0 in /usr/local/lib/python3.10/dist-packages (from pypdf>=3.0.0->camelot-py) (4.12.2)\n",
      "Requirement already satisfied: cffi>=1.12 in /usr/local/lib/python3.10/dist-packages (from cryptography>=36.0.0->pdfminer.six>=20200726->camelot-py) (1.17.1)\n",
      "Requirement already satisfied: six>=1.5 in /usr/local/lib/python3.10/dist-packages (from python-dateutil>=2.8.2->pandas>=0.23.4->camelot-py) (1.16.0)\n",
      "Requirement already satisfied: pycparser in /usr/local/lib/python3.10/dist-packages (from cffi>=1.12->cryptography>=36.0.0->pdfminer.six>=20200726->camelot-py) (2.22)\n",
      "Requirement already satisfied: ghostscript in /usr/local/lib/python3.10/dist-packages (0.7)\n",
      "Requirement already satisfied: setuptools>=38.6.0 in /usr/local/lib/python3.10/dist-packages (from ghostscript) (75.1.0)\n"
     ]
    }
   ],
   "source": [
    "!pip install opencv-python\n",
    "!pip install camelot-py\n",
    "!pip install ghostscript\n",
    "!apt-get install ghostscript\n",
    "\n",
    "import camelot"
   ]
  },
  {
   "cell_type": "code",
   "execution_count": 18,
   "metadata": {
    "executionInfo": {
     "elapsed": 150,
     "status": "ok",
     "timestamp": 1730949780085,
     "user": {
      "displayName": "Yu Nie",
      "userId": "12883820020368960477"
     },
     "user_tz": 300
    },
    "id": "pWXqnV2tk9bY"
   },
   "outputs": [],
   "source": [
    "#file_path=\"/content/drive/MyDrive/Colab Notebooks/OTL_edited.csv\"\n",
    "file_path=\"/content/drive/MyDrive/Colab Notebooks/World_Billionaires_Wikipedia.pdf\""
   ]
  },
  {
   "cell_type": "code",
   "execution_count": 29,
   "metadata": {
    "colab": {
     "base_uri": "https://localhost:8080/"
    },
    "executionInfo": {
     "elapsed": 1973,
     "status": "ok",
     "timestamp": 1730950208960,
     "user": {
      "displayName": "Yu Nie",
      "userId": "12883820020368960477"
     },
     "user_tz": 300
    },
    "id": "C-irs6zPhtCA",
    "outputId": "d2a7939b-c84e-436b-d55e-bdfe94dc5ebf"
   },
   "outputs": [
    {
     "name": "stdout",
     "output_type": "stream",
     "text": [
      "      0                          1                 2    3  \\\n",
      "0   No.                       Name  Net worth\\n(USD)  Age   \n",
      "1     1  Bernard Arnault &\\nfamily      $211 billion   74   \n",
      "2     2                  Elon Musk      $180 billion   51   \n",
      "3     3                 Jeff Bezos      $114 billion   59   \n",
      "4     4              Larry Ellison      $107 billion   78   \n",
      "5     5             Warren Buffett      $106 billion   92   \n",
      "6     6                 Bill Gates      $104 billion   67   \n",
      "7     7          Michael Bloomberg     $94.5 billion   81   \n",
      "8     8       Carlos Slim & family       $93 billion   83   \n",
      "9     9              Mukesh Ambani     $83.4 billion   65   \n",
      "10   10              Steve Ballmer     $80.7 billion   67   \n",
      "\n",
      "                                         4  \\\n",
      "0                              Nationality   \n",
      "1                                   France   \n",
      "2   South Africa\\n Canada\\n United\\nStates   \n",
      "3                           United\\nStates   \n",
      "4                           United\\nStates   \n",
      "5                           United\\nStates   \n",
      "6                           United\\nStates   \n",
      "7                           United\\nStates   \n",
      "8                                   Mexico   \n",
      "9                                    India   \n",
      "10                          United\\nStates   \n",
      "\n",
      "                                      5  \n",
      "0           Primary source(s) of wealth  \n",
      "1                                  LVMH  \n",
      "2                         Tesla, SpaceX  \n",
      "3                                Amazon  \n",
      "4                    Oracle Corporation  \n",
      "5                    Berkshire Hathaway  \n",
      "6                             Microsoft  \n",
      "7                        Bloomberg L.P.  \n",
      "8   Telmex, América Móvil, Grupo\\nCarso  \n",
      "9                   Reliance Industries  \n",
      "10                            Microsoft  \n"
     ]
    }
   ],
   "source": [
    "# use camelot to parse tables\n",
    "def get_tables(path: str, pages: List[int]):\n",
    "    for page in pages:\n",
    "        table_list = camelot.read_pdf(path, pages=str(page))\n",
    "        if table_list.n>0:\n",
    "            for tab in range(table_list.n):\n",
    "\n",
    "                # Conversion of the the tables into the dataframes.\n",
    "                table_df = table_list[tab].df\n",
    "                print(table_df)\n",
    "\n",
    "                table_df = (\n",
    "                    table_df.rename(columns=table_df.iloc[0])\n",
    "                    .drop(table_df.index[0])\n",
    "                    .reset_index(drop=True)\n",
    "                )\n",
    "\n",
    "                table_df = table_df.apply(lambda x: x.str.replace('\\n',''))\n",
    "\n",
    "                # Change column names to be valid as XML tags\n",
    "                table_df.columns = [col.replace('\\n', ' ').replace(' ', '') for col in table_df.columns]\n",
    "                table_df.columns = [col.replace('(', '').replace(')', '') for col in table_df.columns]\n",
    "\n",
    "    return table_df\n",
    "# extract data table from page number\n",
    "df = get_tables(file_path, pages=[4])"
   ]
  },
  {
   "cell_type": "code",
   "execution_count": 7,
   "metadata": {
    "executionInfo": {
     "elapsed": 156,
     "status": "ok",
     "timestamp": 1730948962808,
     "user": {
      "displayName": "Yu Nie",
      "userId": "12883820020368960477"
     },
     "user_tz": 300
    },
    "id": "fRbzn2dLin7e"
   },
   "outputs": [],
   "source": [
    "# prepare test set\n",
    "eval_df = pd.DataFrame(columns=[\"Data Format\", \"Data raw\"]) # , \"Question\", \"Answer\"\n",
    "\n",
    "# Save the data in JSON format\n",
    "data_json = df.to_json(orient='records')\n",
    "eval_df.loc[len(eval_df)] = [\"JSON\", data_json]\n",
    "\n",
    "# Save the data as a list of dictionaries\n",
    "data_list_dict = df.to_dict(orient='records')\n",
    "eval_df.loc[len(eval_df)] = [\"DICT\", data_list_dict]\n",
    "\n",
    "# Save the data in CSV format\n",
    "csv_data = df.to_csv(index=False)\n",
    "eval_df.loc[len(eval_df)] = [\"CSV\", csv_data]\n",
    "\n",
    "# Save the data in tab-separated format\n",
    "tsv_data = df.to_csv(index=False, sep='\\t')\n",
    "eval_df.loc[len(eval_df)] = [\"TSV (tab-separated)\", tsv_data]\n",
    "\n",
    "# Save the data in HTML format\n",
    "html_data = df.to_html(index=False)\n",
    "eval_df.loc[len(eval_df)] = [\"HTML\", html_data]\n",
    "\n",
    "# Save the data in LaTeX format\n",
    "latex_data = df.to_latex(index=False)\n",
    "eval_df.loc[len(eval_df)] = [\"LaTeX\", latex_data]\n",
    "\n",
    "# Save the data in Markdown format\n",
    "markdown_data = df.to_markdown(index=False)\n",
    "eval_df.loc[len(eval_df)] = [\"Markdown\", markdown_data]\n",
    "\n",
    "# Save the data as a string\n",
    "string_data = df.to_string(index=False)\n",
    "eval_df.loc[len(eval_df)] = [\"STRING\", string_data]\n",
    "\n",
    "# Save the data as a NumPy array\n",
    "numpy_data = df.to_numpy()\n",
    "eval_df.loc[len(eval_df)] = [\"NumPy\", numpy_data]\n",
    "\n",
    "# Save the data in XML format\n",
    "xml_data = df.to_xml(index=False)\n",
    "eval_df.loc[len(eval_df)] = [\"XML\", xml_data]"
   ]
  },
  {
   "cell_type": "code",
   "execution_count": 8,
   "metadata": {
    "colab": {
     "base_uri": "https://localhost:8080/",
     "height": 539
    },
    "collapsed": true,
    "executionInfo": {
     "elapsed": 15,
     "status": "ok",
     "timestamp": 1730948962808,
     "user": {
      "displayName": "Yu Nie",
      "userId": "12883820020368960477"
     },
     "user_tz": 300
    },
    "id": "X0oL-09Tirsc",
    "outputId": "3333b9b2-6ede-4e34-e68a-f53aa55e057a"
   },
   "outputs": [
    {
     "data": {
      "application/vnd.google.colaboratory.intrinsic+json": {
       "summary": "{\n  \"name\": \"    display(eval_df\",\n  \"rows\": 10,\n  \"fields\": [\n    {\n      \"column\": \"Data Format\",\n      \"properties\": {\n        \"dtype\": \"string\",\n        \"num_unique_values\": 10,\n        \"samples\": [\n          \"NumPy\",\n          \"DICT\",\n          \"LaTeX\"\n        ],\n        \"semantic_type\": \"\",\n        \"description\": \"\"\n      }\n    },\n    {\n      \"column\": \"Data raw\",\n      \"properties\": {\n        \"dtype\": \"object\",\n        \"semantic_type\": \"\",\n        \"description\": \"\"\n      }\n    }\n  ]\n}",
       "type": "dataframe"
      },
      "text/html": [
       "\n",
       "  <div id=\"df-c2cda2f8-c416-486d-95aa-7f91f18445f1\" class=\"colab-df-container\">\n",
       "    <div>\n",
       "<style scoped>\n",
       "    .dataframe tbody tr th:only-of-type {\n",
       "        vertical-align: middle;\n",
       "    }\n",
       "\n",
       "    .dataframe tbody tr th {\n",
       "        vertical-align: top;\n",
       "    }\n",
       "\n",
       "    .dataframe thead th {\n",
       "        text-align: right;\n",
       "    }\n",
       "</style>\n",
       "<table border=\"1\" class=\"dataframe\">\n",
       "  <thead>\n",
       "    <tr style=\"text-align: right;\">\n",
       "      <th></th>\n",
       "      <th>Data Format</th>\n",
       "      <th>Data raw</th>\n",
       "    </tr>\n",
       "  </thead>\n",
       "  <tbody>\n",
       "    <tr>\n",
       "      <th>0</th>\n",
       "      <td>JSON</td>\n",
       "      <td>[{\"No.\":\"1\",\"Name\":\"Bernard Arnault &amp;family\",\"NetworthUSD\":\"$233\\u00a0billion\",\"Age\":\"75\",\"Nationality\":\"France\",\"Primarysourcesofwealth\":\"LVMH\"},...</td>\n",
       "    </tr>\n",
       "    <tr>\n",
       "      <th>1</th>\n",
       "      <td>DICT</td>\n",
       "      <td>[{'No.': '1', 'Name': 'Bernard Arnault &amp;family', 'NetworthUSD': '$233 billion', 'Age': '75', 'Nationality': 'France', 'Primarysourcesofwealth': 'L...</td>\n",
       "    </tr>\n",
       "    <tr>\n",
       "      <th>2</th>\n",
       "      <td>CSV</td>\n",
       "      <td>No.,Name,NetworthUSD,Age,Nationality,Primarysourcesofwealth\\n1,Bernard Arnault &amp;family,$233 billion,75,France,LVMH\\n2,Elon Musk,$195 billion,52,So...</td>\n",
       "    </tr>\n",
       "    <tr>\n",
       "      <th>3</th>\n",
       "      <td>TSV (tab-separated)</td>\n",
       "      <td>No.\\tName\\tNetworthUSD\\tAge\\tNationality\\tPrimarysourcesofwealth\\n1\\tBernard Arnault &amp;family\\t$233 billion\\t75\\tFrance\\tLVMH\\n2\\tElon Musk\\t$195 b...</td>\n",
       "    </tr>\n",
       "    <tr>\n",
       "      <th>4</th>\n",
       "      <td>HTML</td>\n",
       "      <td>&lt;table border=\"1\" class=\"dataframe\"&gt;\\n  &lt;thead&gt;\\n    &lt;tr style=\"text-align: right;\"&gt;\\n      &lt;th&gt;No.&lt;/th&gt;\\n      &lt;th&gt;Name&lt;/th&gt;\\n      &lt;th&gt;NetworthU...</td>\n",
       "    </tr>\n",
       "    <tr>\n",
       "      <th>5</th>\n",
       "      <td>LaTeX</td>\n",
       "      <td>\\begin{tabular}{llllll}\\n\\toprule\\nNo. &amp; Name &amp; NetworthUSD &amp; Age &amp; Nationality &amp; Primarysourcesofwealth \\\\\\n\\midrule\\n1 &amp; Bernard Arnault &amp;family...</td>\n",
       "    </tr>\n",
       "    <tr>\n",
       "      <th>6</th>\n",
       "      <td>Markdown</td>\n",
       "      <td>|   No. | Name                    | NetworthUSD   |   Age | Nationality                      | Primarysourcesofwealth   |\\n|------:|:-------------...</td>\n",
       "    </tr>\n",
       "    <tr>\n",
       "      <th>7</th>\n",
       "      <td>STRING</td>\n",
       "      <td>No.                    Name  NetworthUSD Age                      Nationality Primarysourcesofwealth\\n  1 Bernard Arnault &amp;family $233 billion  75...</td>\n",
       "    </tr>\n",
       "    <tr>\n",
       "      <th>8</th>\n",
       "      <td>NumPy</td>\n",
       "      <td>[[1, Bernard Arnault &amp;family, $233 billion, 75, France, LVMH], [2, Elon Musk, $195 billion, 52, South Africa Canada UnitedStates, Tesla, SpaceX], ...</td>\n",
       "    </tr>\n",
       "    <tr>\n",
       "      <th>9</th>\n",
       "      <td>XML</td>\n",
       "      <td>&lt;?xml version='1.0' encoding='utf-8'?&gt;\\n&lt;data&gt;\\n  &lt;row&gt;\\n    &lt;No.&gt;1&lt;/No.&gt;\\n    &lt;Name&gt;Bernard Arnault &amp;amp;family&lt;/Name&gt;\\n    &lt;NetworthUSD&gt;$233 bil...</td>\n",
       "    </tr>\n",
       "  </tbody>\n",
       "</table>\n",
       "</div>\n",
       "    <div class=\"colab-df-buttons\">\n",
       "\n",
       "  <div class=\"colab-df-container\">\n",
       "    <button class=\"colab-df-convert\" onclick=\"convertToInteractive('df-c2cda2f8-c416-486d-95aa-7f91f18445f1')\"\n",
       "            title=\"Convert this dataframe to an interactive table.\"\n",
       "            style=\"display:none;\">\n",
       "\n",
       "  <svg xmlns=\"http://www.w3.org/2000/svg\" height=\"24px\" viewBox=\"0 -960 960 960\">\n",
       "    <path d=\"M120-120v-720h720v720H120Zm60-500h600v-160H180v160Zm220 220h160v-160H400v160Zm0 220h160v-160H400v160ZM180-400h160v-160H180v160Zm440 0h160v-160H620v160ZM180-180h160v-160H180v160Zm440 0h160v-160H620v160Z\"/>\n",
       "  </svg>\n",
       "    </button>\n",
       "\n",
       "  <style>\n",
       "    .colab-df-container {\n",
       "      display:flex;\n",
       "      gap: 12px;\n",
       "    }\n",
       "\n",
       "    .colab-df-convert {\n",
       "      background-color: #E8F0FE;\n",
       "      border: none;\n",
       "      border-radius: 50%;\n",
       "      cursor: pointer;\n",
       "      display: none;\n",
       "      fill: #1967D2;\n",
       "      height: 32px;\n",
       "      padding: 0 0 0 0;\n",
       "      width: 32px;\n",
       "    }\n",
       "\n",
       "    .colab-df-convert:hover {\n",
       "      background-color: #E2EBFA;\n",
       "      box-shadow: 0px 1px 2px rgba(60, 64, 67, 0.3), 0px 1px 3px 1px rgba(60, 64, 67, 0.15);\n",
       "      fill: #174EA6;\n",
       "    }\n",
       "\n",
       "    .colab-df-buttons div {\n",
       "      margin-bottom: 4px;\n",
       "    }\n",
       "\n",
       "    [theme=dark] .colab-df-convert {\n",
       "      background-color: #3B4455;\n",
       "      fill: #D2E3FC;\n",
       "    }\n",
       "\n",
       "    [theme=dark] .colab-df-convert:hover {\n",
       "      background-color: #434B5C;\n",
       "      box-shadow: 0px 1px 3px 1px rgba(0, 0, 0, 0.15);\n",
       "      filter: drop-shadow(0px 1px 2px rgba(0, 0, 0, 0.3));\n",
       "      fill: #FFFFFF;\n",
       "    }\n",
       "  </style>\n",
       "\n",
       "    <script>\n",
       "      const buttonEl =\n",
       "        document.querySelector('#df-c2cda2f8-c416-486d-95aa-7f91f18445f1 button.colab-df-convert');\n",
       "      buttonEl.style.display =\n",
       "        google.colab.kernel.accessAllowed ? 'block' : 'none';\n",
       "\n",
       "      async function convertToInteractive(key) {\n",
       "        const element = document.querySelector('#df-c2cda2f8-c416-486d-95aa-7f91f18445f1');\n",
       "        const dataTable =\n",
       "          await google.colab.kernel.invokeFunction('convertToInteractive',\n",
       "                                                    [key], {});\n",
       "        if (!dataTable) return;\n",
       "\n",
       "        const docLinkHtml = 'Like what you see? Visit the ' +\n",
       "          '<a target=\"_blank\" href=https://colab.research.google.com/notebooks/data_table.ipynb>data table notebook</a>'\n",
       "          + ' to learn more about interactive tables.';\n",
       "        element.innerHTML = '';\n",
       "        dataTable['output_type'] = 'display_data';\n",
       "        await google.colab.output.renderOutput(dataTable, element);\n",
       "        const docLink = document.createElement('div');\n",
       "        docLink.innerHTML = docLinkHtml;\n",
       "        element.appendChild(docLink);\n",
       "      }\n",
       "    </script>\n",
       "  </div>\n",
       "\n",
       "\n",
       "<div id=\"df-190b356f-9ac4-4399-b914-f27da74e03e0\">\n",
       "  <button class=\"colab-df-quickchart\" onclick=\"quickchart('df-190b356f-9ac4-4399-b914-f27da74e03e0')\"\n",
       "            title=\"Suggest charts\"\n",
       "            style=\"display:none;\">\n",
       "\n",
       "<svg xmlns=\"http://www.w3.org/2000/svg\" height=\"24px\"viewBox=\"0 0 24 24\"\n",
       "     width=\"24px\">\n",
       "    <g>\n",
       "        <path d=\"M19 3H5c-1.1 0-2 .9-2 2v14c0 1.1.9 2 2 2h14c1.1 0 2-.9 2-2V5c0-1.1-.9-2-2-2zM9 17H7v-7h2v7zm4 0h-2V7h2v10zm4 0h-2v-4h2v4z\"/>\n",
       "    </g>\n",
       "</svg>\n",
       "  </button>\n",
       "\n",
       "<style>\n",
       "  .colab-df-quickchart {\n",
       "      --bg-color: #E8F0FE;\n",
       "      --fill-color: #1967D2;\n",
       "      --hover-bg-color: #E2EBFA;\n",
       "      --hover-fill-color: #174EA6;\n",
       "      --disabled-fill-color: #AAA;\n",
       "      --disabled-bg-color: #DDD;\n",
       "  }\n",
       "\n",
       "  [theme=dark] .colab-df-quickchart {\n",
       "      --bg-color: #3B4455;\n",
       "      --fill-color: #D2E3FC;\n",
       "      --hover-bg-color: #434B5C;\n",
       "      --hover-fill-color: #FFFFFF;\n",
       "      --disabled-bg-color: #3B4455;\n",
       "      --disabled-fill-color: #666;\n",
       "  }\n",
       "\n",
       "  .colab-df-quickchart {\n",
       "    background-color: var(--bg-color);\n",
       "    border: none;\n",
       "    border-radius: 50%;\n",
       "    cursor: pointer;\n",
       "    display: none;\n",
       "    fill: var(--fill-color);\n",
       "    height: 32px;\n",
       "    padding: 0;\n",
       "    width: 32px;\n",
       "  }\n",
       "\n",
       "  .colab-df-quickchart:hover {\n",
       "    background-color: var(--hover-bg-color);\n",
       "    box-shadow: 0 1px 2px rgba(60, 64, 67, 0.3), 0 1px 3px 1px rgba(60, 64, 67, 0.15);\n",
       "    fill: var(--button-hover-fill-color);\n",
       "  }\n",
       "\n",
       "  .colab-df-quickchart-complete:disabled,\n",
       "  .colab-df-quickchart-complete:disabled:hover {\n",
       "    background-color: var(--disabled-bg-color);\n",
       "    fill: var(--disabled-fill-color);\n",
       "    box-shadow: none;\n",
       "  }\n",
       "\n",
       "  .colab-df-spinner {\n",
       "    border: 2px solid var(--fill-color);\n",
       "    border-color: transparent;\n",
       "    border-bottom-color: var(--fill-color);\n",
       "    animation:\n",
       "      spin 1s steps(1) infinite;\n",
       "  }\n",
       "\n",
       "  @keyframes spin {\n",
       "    0% {\n",
       "      border-color: transparent;\n",
       "      border-bottom-color: var(--fill-color);\n",
       "      border-left-color: var(--fill-color);\n",
       "    }\n",
       "    20% {\n",
       "      border-color: transparent;\n",
       "      border-left-color: var(--fill-color);\n",
       "      border-top-color: var(--fill-color);\n",
       "    }\n",
       "    30% {\n",
       "      border-color: transparent;\n",
       "      border-left-color: var(--fill-color);\n",
       "      border-top-color: var(--fill-color);\n",
       "      border-right-color: var(--fill-color);\n",
       "    }\n",
       "    40% {\n",
       "      border-color: transparent;\n",
       "      border-right-color: var(--fill-color);\n",
       "      border-top-color: var(--fill-color);\n",
       "    }\n",
       "    60% {\n",
       "      border-color: transparent;\n",
       "      border-right-color: var(--fill-color);\n",
       "    }\n",
       "    80% {\n",
       "      border-color: transparent;\n",
       "      border-right-color: var(--fill-color);\n",
       "      border-bottom-color: var(--fill-color);\n",
       "    }\n",
       "    90% {\n",
       "      border-color: transparent;\n",
       "      border-bottom-color: var(--fill-color);\n",
       "    }\n",
       "  }\n",
       "</style>\n",
       "\n",
       "  <script>\n",
       "    async function quickchart(key) {\n",
       "      const quickchartButtonEl =\n",
       "        document.querySelector('#' + key + ' button');\n",
       "      quickchartButtonEl.disabled = true;  // To prevent multiple clicks.\n",
       "      quickchartButtonEl.classList.add('colab-df-spinner');\n",
       "      try {\n",
       "        const charts = await google.colab.kernel.invokeFunction(\n",
       "            'suggestCharts', [key], {});\n",
       "      } catch (error) {\n",
       "        console.error('Error during call to suggestCharts:', error);\n",
       "      }\n",
       "      quickchartButtonEl.classList.remove('colab-df-spinner');\n",
       "      quickchartButtonEl.classList.add('colab-df-quickchart-complete');\n",
       "    }\n",
       "    (() => {\n",
       "      let quickchartButtonEl =\n",
       "        document.querySelector('#df-190b356f-9ac4-4399-b914-f27da74e03e0 button');\n",
       "      quickchartButtonEl.style.display =\n",
       "        google.colab.kernel.accessAllowed ? 'block' : 'none';\n",
       "    })();\n",
       "  </script>\n",
       "</div>\n",
       "\n",
       "    </div>\n",
       "  </div>\n"
      ],
      "text/plain": [
       "           Data Format  \\\n",
       "0                 JSON   \n",
       "1                 DICT   \n",
       "2                  CSV   \n",
       "3  TSV (tab-separated)   \n",
       "4                 HTML   \n",
       "5                LaTeX   \n",
       "6             Markdown   \n",
       "7               STRING   \n",
       "8                NumPy   \n",
       "9                  XML   \n",
       "\n",
       "                                                                                                                                                Data raw  \n",
       "0  [{\"No.\":\"1\",\"Name\":\"Bernard Arnault &family\",\"NetworthUSD\":\"$233\\u00a0billion\",\"Age\":\"75\",\"Nationality\":\"France\",\"Primarysourcesofwealth\":\"LVMH\"},...  \n",
       "1  [{'No.': '1', 'Name': 'Bernard Arnault &family', 'NetworthUSD': '$233 billion', 'Age': '75', 'Nationality': 'France', 'Primarysourcesofwealth': 'L...  \n",
       "2  No.,Name,NetworthUSD,Age,Nationality,Primarysourcesofwealth\\n1,Bernard Arnault &family,$233 billion,75,France,LVMH\\n2,Elon Musk,$195 billion,52,So...  \n",
       "3  No.\\tName\\tNetworthUSD\\tAge\\tNationality\\tPrimarysourcesofwealth\\n1\\tBernard Arnault &family\\t$233 billion\\t75\\tFrance\\tLVMH\\n2\\tElon Musk\\t$195 b...  \n",
       "4  <table border=\"1\" class=\"dataframe\">\\n  <thead>\\n    <tr style=\"text-align: right;\">\\n      <th>No.</th>\\n      <th>Name</th>\\n      <th>NetworthU...  \n",
       "5  \\begin{tabular}{llllll}\\n\\toprule\\nNo. & Name & NetworthUSD & Age & Nationality & Primarysourcesofwealth \\\\\\n\\midrule\\n1 & Bernard Arnault &family...  \n",
       "6  |   No. | Name                    | NetworthUSD   |   Age | Nationality                      | Primarysourcesofwealth   |\\n|------:|:-------------...  \n",
       "7  No.                    Name  NetworthUSD Age                      Nationality Primarysourcesofwealth\\n  1 Bernard Arnault &family $233 billion  75...  \n",
       "8  [[1, Bernard Arnault &family, $233 billion, 75, France, LVMH], [2, Elon Musk, $195 billion, 52, South Africa Canada UnitedStates, Tesla, SpaceX], ...  \n",
       "9  <?xml version='1.0' encoding='utf-8'?>\\n<data>\\n  <row>\\n    <No.>1</No.>\\n    <Name>Bernard Arnault &amp;family</Name>\\n    <NetworthUSD>$233 bil...  "
      ]
     },
     "metadata": {},
     "output_type": "display_data"
    }
   ],
   "source": [
    "from pandas import option_context\n",
    "with option_context('display.max_colwidth', 150):\n",
    "    display(eval_df.head(10))"
   ]
  },
  {
   "cell_type": "code",
   "execution_count": 9,
   "metadata": {
    "executionInfo": {
     "elapsed": 11,
     "status": "ok",
     "timestamp": 1730948962809,
     "user": {
      "displayName": "Yu Nie",
      "userId": "12883820020368960477"
     },
     "user_tz": 300
    },
    "id": "aIbRuCgYisT7"
   },
   "outputs": [],
   "source": [
    "MESSAGE_SYSTEM_CONTENT = \"\"\"You are a customer service agent that helps a customer with answering questions.\n",
    "Please answer the question based on the provided context below.\n",
    "Make sure not to make any changes to the context, if possible, when preparing answers to provide accurate responses.\n",
    "If the answer cannot be found in context, just politely say that you do not know, do not try to make up an answer.\"\"\""
   ]
  },
  {
   "cell_type": "code",
   "execution_count": null,
   "metadata": {
    "id": "w_pcChO1moST"
   },
   "outputs": [],
   "source": [
    "!pip install openai==0.28"
   ]
  },
  {
   "cell_type": "code",
   "execution_count": 11,
   "metadata": {
    "executionInfo": {
     "elapsed": 614,
     "status": "ok",
     "timestamp": 1730949061839,
     "user": {
      "displayName": "Yu Nie",
      "userId": "12883820020368960477"
     },
     "user_tz": 300
    },
    "id": "x8GctApqlLTh"
   },
   "outputs": [],
   "source": [
    "# from openai import AzureOpenAI\n",
    "\n",
    "# client = AzureOpenAI(\n",
    "#     api_key=OAI_API_Key,\n",
    "#     api_version=OAI_API_Version,\n",
    "#     azure_endpoint=OAI_API_Base)\n",
    "\n",
    "# def response_test(question:str, context:str, model:str = \"gpt-4\"):\n",
    "#     response = client.chat.completions.create(\n",
    "#         model=model,\n",
    "#         messages=[\n",
    "#             {\n",
    "#                 \"role\": \"system\",\n",
    "#                 \"content\": MESSAGE_SYSTEM_CONTENT,\n",
    "#             },\n",
    "#             {\"role\": \"user\", \"content\": question},\n",
    "#             {\"role\": \"assistant\", \"content\": context},\n",
    "#         ],\n",
    "#     )\n",
    "\n",
    "#     return response.choices[0].message.content\n",
    "\n",
    "import openai\n",
    "\n",
    "# Set your OpenAI API key\n",
    "openai.api_key = \"\"\n",
    "\n",
    "def response_test(question: str, context: str, model: str = \"gpt-4\"):\n",
    "    response = openai.ChatCompletion.create(\n",
    "        model=model,\n",
    "        messages=[\n",
    "            {\n",
    "                \"role\": \"system\",\n",
    "                \"content\": MESSAGE_SYSTEM_CONTENT,\n",
    "            },\n",
    "            {\"role\": \"user\", \"content\": question},\n",
    "            {\"role\": \"assistant\", \"content\": context},\n",
    "        ],\n",
    "    )\n",
    "\n",
    "    return response.choices[0].message[\"content\"]\n"
   ]
  },
  {
   "cell_type": "code",
   "execution_count": 12,
   "metadata": {
    "executionInfo": {
     "elapsed": 199,
     "status": "ok",
     "timestamp": 1730949065241,
     "user": {
      "displayName": "Yu Nie",
      "userId": "12883820020368960477"
     },
     "user_tz": 300
    },
    "id": "1oGyXPtylqgW"
   },
   "outputs": [],
   "source": [
    "def run_question_test(query: str, eval_df:str):\n",
    "\n",
    "    questions = []\n",
    "    answers = []\n",
    "\n",
    "    for index, row in eval_df.iterrows():\n",
    "        questions.append(query)\n",
    "        response = response_test(query, str(row['Data raw']))\n",
    "        answers.append(response)\n",
    "\n",
    "    eval_df['Question'] = questions\n",
    "    eval_df['Answer'] = answers\n",
    "\n",
    "    return eval_df\n",
    "\n",
    "def BeautifulTableformat(query:str, results:pd.DataFrame, MaxWidth:int = 250):\n",
    "    table = BeautifulTable(maxwidth=MaxWidth, default_alignment=BeautifulTable.ALIGN_LEFT)\n",
    "    table.columns.header = [\"Data Format\", \"Query\", \"Answer\"]\n",
    "    for index, row in results.iterrows():\n",
    "        table.rows.append([row['Data Format'], query, row['Answer']])\n",
    "\n",
    "    return table"
   ]
  },
  {
   "cell_type": "code",
   "execution_count": 13,
   "metadata": {
    "colab": {
     "base_uri": "https://localhost:8080/"
    },
    "executionInfo": {
     "elapsed": 8683,
     "status": "ok",
     "timestamp": 1730949077078,
     "user": {
      "displayName": "Yu Nie",
      "userId": "12883820020368960477"
     },
     "user_tz": 300
    },
    "id": "vjod9pSclvYN",
    "outputId": "be393dc7-641e-4fde-cb10-b952813a1b12"
   },
   "outputs": [
    {
     "name": "stdout",
     "output_type": "stream",
     "text": [
      "+---------------------+-----------------------------------+----------------------------------------+\n",
      "| Data Format         | Query                             | Answer                                 |\n",
      "+---------------------+-----------------------------------+----------------------------------------+\n",
      "| JSON                | What's the Elon Musk's net worth? | Elon Musk's net worth is $195 billion. |\n",
      "+---------------------+-----------------------------------+----------------------------------------+\n",
      "| DICT                | What's the Elon Musk's net worth? | Elon Musk's net worth is $195 billion. |\n",
      "+---------------------+-----------------------------------+----------------------------------------+\n",
      "| CSV                 | What's the Elon Musk's net worth? | Elon Musk's net worth is $195 billion. |\n",
      "+---------------------+-----------------------------------+----------------------------------------+\n",
      "| TSV (tab-separated) | What's the Elon Musk's net worth? | Elon Musk's net worth is $195 billion. |\n",
      "+---------------------+-----------------------------------+----------------------------------------+\n",
      "| HTML                | What's the Elon Musk's net worth? | Elon Musk's net worth is $195 billion. |\n",
      "+---------------------+-----------------------------------+----------------------------------------+\n",
      "| LaTeX               | What's the Elon Musk's net worth? | Elon Musk's net worth is $195 billion. |\n",
      "+---------------------+-----------------------------------+----------------------------------------+\n",
      "| Markdown            | What's the Elon Musk's net worth? | Elon Musk's net worth is $195 billion. |\n",
      "+---------------------+-----------------------------------+----------------------------------------+\n",
      "| STRING              | What's the Elon Musk's net worth? | Elon Musk's net worth is $195 billion. |\n",
      "+---------------------+-----------------------------------+----------------------------------------+\n",
      "| NumPy               | What's the Elon Musk's net worth? | Elon Musk's net worth is $195 billion. |\n",
      "+---------------------+-----------------------------------+----------------------------------------+\n",
      "| XML                 | What's the Elon Musk's net worth? | Elon Musk's net worth is $195 billion. |\n",
      "+---------------------+-----------------------------------+----------------------------------------+\n"
     ]
    }
   ],
   "source": [
    "query = \"What's the Elon Musk's net worth?\"\n",
    "result_df1 = run_question_test(query, eval_df.copy())\n",
    "table = BeautifulTableformat(query, result_df1, 150)\n",
    "print(table)"
   ]
  },
  {
   "cell_type": "code",
   "execution_count": 14,
   "metadata": {
    "colab": {
     "base_uri": "https://localhost:8080/"
    },
    "executionInfo": {
     "elapsed": 20429,
     "status": "ok",
     "timestamp": 1730949158267,
     "user": {
      "displayName": "Yu Nie",
      "userId": "12883820020368960477"
     },
     "user_tz": 300
    },
    "id": "7CPeiKGAm2SS",
    "outputId": "74fc323c-90c9-48ae-c727-483ce576443d"
   },
   "outputs": [
    {
     "name": "stdout",
     "output_type": "stream",
     "text": [
      "+---------------------+----------------------------------+-------------------------------------------------------------------------------------------+\n",
      "| Data Format         | Query                            | Answer                                                                                    |\n",
      "+---------------------+----------------------------------+-------------------------------------------------------------------------------------------+\n",
      "| JSON                | What are the sixth richest billi | The sixth richest billionaire in 2023 is Warren Buffett with a net worth of $133 billion. |\n",
      "|                     | onaire in 2023 and 2024 net wort |  The information for 2024 is not available in the context provided.                       |\n",
      "|                     | h?                               |                                                                                           |\n",
      "+---------------------+----------------------------------+-------------------------------------------------------------------------------------------+\n",
      "| DICT                | What are the sixth richest billi | The sixth richest billionaire in 2023 and 2024 is Warren Buffett with a net worth of $133 |\n",
      "|                     | onaire in 2023 and 2024 net wort |  billion.                                                                                 |\n",
      "|                     | h?                               |                                                                                           |\n",
      "+---------------------+----------------------------------+-------------------------------------------------------------------------------------------+\n",
      "| CSV                 | What are the sixth richest billi | The sixth richest billionaire in 2023 is Warren Buffett with a net worth of $133 billion  |\n",
      "|                     | onaire in 2023 and 2024 net wort | USD. Information about the sixth richest billionaire in 2024 is not provided in the conte |\n",
      "|                     | h?                               | xt.                                                                                       |\n",
      "+---------------------+----------------------------------+-------------------------------------------------------------------------------------------+\n",
      "| TSV (tab-separated) | What are the sixth richest billi | The context provided does not include information about the net worth of the sixth riches |\n",
      "|                     | onaire in 2023 and 2024 net wort | t billionaire in 2023 and 2024.                                                           |\n",
      "|                     | h?                               |                                                                                           |\n",
      "+---------------------+----------------------------------+-------------------------------------------------------------------------------------------+\n",
      "| HTML                | What are the sixth richest billi | The sixth richest billionaire in 2023 had a net worth of $133 billion. Unfortunately, the |\n",
      "|                     | onaire in 2023 and 2024 net wort |  information for 2024 is not provided in the context.                                     |\n",
      "|                     | h?                               |                                                                                           |\n",
      "+---------------------+----------------------------------+-------------------------------------------------------------------------------------------+\n",
      "| LaTeX               | What are the sixth richest billi | I'm sorry, but the information provided does not specify the net worth of the sixth riche |\n",
      "|                     | onaire in 2023 and 2024 net wort | st billionaire in 2023 and 2024.                                                          |\n",
      "|                     | h?                               |                                                                                           |\n",
      "+---------------------+----------------------------------+-------------------------------------------------------------------------------------------+\n",
      "| Markdown            | What are the sixth richest billi | Based on the information provided, the sixth richest billionaire in 2023 was Warren Buffe |\n",
      "|                     | onaire in 2023 and 2024 net wort | t with a net worth of $133 billion. I'm sorry, but there is no information available for  |\n",
      "|                     | h?                               | 2024.                                                                                     |\n",
      "+---------------------+----------------------------------+-------------------------------------------------------------------------------------------+\n",
      "| STRING              | What are the sixth richest billi | The sixth richest billionaire in 2023 was Warren Buffet with a net worth of $133 billion. |\n",
      "|                     | onaire in 2023 and 2024 net wort |  Information about the sixth richest billionaire in 2024 is not provided in the context g |\n",
      "|                     | h?                               | iven.                                                                                     |\n",
      "+---------------------+----------------------------------+-------------------------------------------------------------------------------------------+\n",
      "| NumPy               | What are the sixth richest billi | The sixth richest billionaire in 2023 is Warren Buffett, with a net worth of $133 billion |\n",
      "|                     | onaire in 2023 and 2024 net wort | . The information for 2024 is not provided in the context.                                |\n",
      "|                     | h?                               |                                                                                           |\n",
      "+---------------------+----------------------------------+-------------------------------------------------------------------------------------------+\n",
      "| XML                 | What are the sixth richest billi | The sixth richest billionaire in 2023 and 2024 is Warren Buffett with a net worth of $133 |\n",
      "|                     | onaire in 2023 and 2024 net wort |  billion.                                                                                 |\n",
      "|                     | h?                               |                                                                                           |\n",
      "+---------------------+----------------------------------+-------------------------------------------------------------------------------------------+\n"
     ]
    }
   ],
   "source": [
    "query = \"What are the sixth richest billionaire in 2023 and 2024 net worth?\"\n",
    "result_df2 = run_question_test(query, eval_df.copy())\n",
    "table = BeautifulTableformat(query, result_df2, 150)\n",
    "print(table)"
   ]
  },
  {
   "cell_type": "code",
   "execution_count": 16,
   "metadata": {
    "colab": {
     "base_uri": "https://localhost:8080/"
    },
    "executionInfo": {
     "elapsed": 14139,
     "status": "ok",
     "timestamp": 1730949448859,
     "user": {
      "displayName": "Yu Nie",
      "userId": "12883820020368960477"
     },
     "user_tz": 300
    },
    "id": "TvSaWFBGnfhI",
    "outputId": "c58bc888-da1e-4ecf-b37a-764e4b330b2a"
   },
   "outputs": [
    {
     "name": "stdout",
     "output_type": "stream",
     "text": [
      "+---------------------+---------------------------------------+--------------------------------------------------------------------------------------+\n",
      "| Data Format         | Query                                 | Answer                                                                               |\n",
      "+---------------------+---------------------------------------+--------------------------------------------------------------------------------------+\n",
      "| JSON                | What are the sixth richest billionair | The sixth richest billionaire in 2021 according to the information provided is Warre |\n",
      "|                     | e in 2021 net worth?                  | n Buffett with a net worth of $133 billion.                                          |\n",
      "+---------------------+---------------------------------------+--------------------------------------------------------------------------------------+\n",
      "| DICT                | What are the sixth richest billionair | The sixth richest billionaire in 2021 is Warren Buffett with a net worth of $133 bil |\n",
      "|                     | e in 2021 net worth?                  | lion.                                                                                |\n",
      "+---------------------+---------------------------------------+--------------------------------------------------------------------------------------+\n",
      "| CSV                 | What are the sixth richest billionair | The net worth of the sixth richest billionaire in 2021, Warren Buffett, is $133 bill |\n",
      "|                     | e in 2021 net worth?                  | ion.                                                                                 |\n",
      "+---------------------+---------------------------------------+--------------------------------------------------------------------------------------+\n",
      "| TSV (tab-separated) | What are the sixth richest billionair | The sixth richest billionaire in 2021 is Warren Buffet, with a net worth of $133 bil |\n",
      "|                     | e in 2021 net worth?                  | lion.                                                                                |\n",
      "+---------------------+---------------------------------------+--------------------------------------------------------------------------------------+\n",
      "| HTML                | What are the sixth richest billionair | The sixth richest billionaire in 2021 is Warren Buffett with a net worth of $133 bil |\n",
      "|                     | e in 2021 net worth?                  | lion.                                                                                |\n",
      "+---------------------+---------------------------------------+--------------------------------------------------------------------------------------+\n",
      "| LaTeX               | What are the sixth richest billionair | The sixth richest billionaire in 2021 is Warren Buffett, with a net worth of $133 bi |\n",
      "|                     | e in 2021 net worth?                  | llion.                                                                               |\n",
      "+---------------------+---------------------------------------+--------------------------------------------------------------------------------------+\n",
      "| Markdown            | What are the sixth richest billionair | The sixth richest billionaire in 2021 is Warren Buffett, with a net worth of $133 bi |\n",
      "|                     | e in 2021 net worth?                  | llion.                                                                               |\n",
      "+---------------------+---------------------------------------+--------------------------------------------------------------------------------------+\n",
      "| STRING              | What are the sixth richest billionair | The sixth richest billionaire in 2021 is Warren Buffett with a net worth of $133 bil |\n",
      "|                     | e in 2021 net worth?                  | lion.                                                                                |\n",
      "+---------------------+---------------------------------------+--------------------------------------------------------------------------------------+\n",
      "| NumPy               | What are the sixth richest billionair | The sixth richest billionaire in 2021 is Warren Buffett with a net worth of $133 bil |\n",
      "|                     | e in 2021 net worth?                  | lion.                                                                                |\n",
      "+---------------------+---------------------------------------+--------------------------------------------------------------------------------------+\n",
      "| XML                 | What are the sixth richest billionair | The sixth richest billionaire in 2021 is Warren Buffett, with a net worth of $133 bi |\n",
      "|                     | e in 2021 net worth?                  | llion.                                                                               |\n",
      "+---------------------+---------------------------------------+--------------------------------------------------------------------------------------+\n"
     ]
    }
   ],
   "source": [
    "query = \"What are the sixth richest billionaire in 2021 net worth?\"\n",
    "result_df3 = run_question_test(query, eval_df.copy())\n",
    "table = BeautifulTableformat(query, result_df3, 150)\n",
    "print(table)"
   ]
  },
  {
   "cell_type": "code",
   "execution_count": null,
   "metadata": {
    "id": "TU3auHDgnjNw"
   },
   "outputs": [],
   "source": []
  }
 ],
 "metadata": {
  "colab": {
   "authorship_tag": "ABX9TyM9yjhBqmECZkZBNSdLMlAB",
   "mount_file_id": "1lpKaak37Lq4QX4U9HaiSiIkDIXSIHhzi",
   "provenance": []
  },
  "kernelspec": {
   "display_name": "Python 3",
   "name": "python3"
  },
  "language_info": {
   "name": "python"
  }
 },
 "nbformat": 4,
 "nbformat_minor": 0
}
